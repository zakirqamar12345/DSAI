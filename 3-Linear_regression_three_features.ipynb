{
 "cells": [
  {
   "cell_type": "code",
   "execution_count": 8,
   "id": "82744e5c",
   "metadata": {},
   "outputs": [
    {
     "name": "stdout",
     "output_type": "stream",
     "text": [
      "Coefficients: [-0.00640016 -0.00016909  0.00031214]\n",
      "Intercept: 1.44054726475392\n"
     ]
    }
   ],
   "source": [
    "import pandas as pd\n",
    "from sklearn.preprocessing import LabelEncoder\n",
    "from sklearn.linear_model import LinearRegression\n",
    "\n",
    "# Read data from CSV file into a DataFrame\n",
    "df = pd.read_csv(r'E:\\NUST-dairy\\Module\\Project\\AI-Data.csv')\n",
    "\n",
    "# Define the features and target variable\n",
    "features = ['raisedhands', 'VisITedResources', 'AnnouncementsView']\n",
    "target = 'Class'\n",
    "\n",
    "# Convert the target variable to numerical using label encoding\n",
    "le = LabelEncoder()\n",
    "df[target] = le.fit_transform(df[target])\n",
    "\n",
    "# Split the data into training and test sets\n",
    "X = df[features]\n",
    "y = df[target]\n",
    "\n",
    "# Create and fit the linear regression model\n",
    "model = LinearRegression()\n",
    "model.fit(X, y)\n",
    "\n",
    "# Predict the target variable using the trained model\n",
    "y_pred = model.predict(X)\n",
    "\n",
    "# Print the coefficients and intercept of the model\n",
    "print('Coefficients:', model.coef_)\n",
    "print('Intercept:', model.intercept_)"
   ]
  },
  {
   "cell_type": "code",
   "execution_count": null,
   "id": "6428e4c3",
   "metadata": {},
   "outputs": [],
   "source": []
  }
 ],
 "metadata": {
  "kernelspec": {
   "display_name": "Python 3 (ipykernel)",
   "language": "python",
   "name": "python3"
  },
  "language_info": {
   "codemirror_mode": {
    "name": "ipython",
    "version": 3
   },
   "file_extension": ".py",
   "mimetype": "text/x-python",
   "name": "python",
   "nbconvert_exporter": "python",
   "pygments_lexer": "ipython3",
   "version": "3.10.6"
  }
 },
 "nbformat": 4,
 "nbformat_minor": 5
}
