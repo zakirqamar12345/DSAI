{
 "cells": [
  {
   "cell_type": "code",
   "execution_count": 1,
   "id": "9502c979",
   "metadata": {},
   "outputs": [
    {
     "name": "stdout",
     "output_type": "stream",
     "text": [
      "Coefficients: [-1.05400986 -0.60998711 -0.41677411]\n",
      "Intercept: 3.3545648016026064\n"
     ]
    }
   ],
   "source": [
    "import pandas as pd\n",
    "import numpy as np\n",
    "from sklearn.preprocessing import LabelEncoder\n",
    "\n",
    "# Read data from CSV file into a DataFrame\n",
    "df = pd.read_csv(r'E:\\NUST-dairy\\Module\\Project\\AI-Data.csv')\n",
    "\n",
    "# Define the features and target variable\n",
    "features = ['raisedhands', 'VisITedResources', 'AnnouncementsView']\n",
    "target = 'Class'\n",
    "\n",
    "# Convert the target variable to numerical using label encoding\n",
    "le = LabelEncoder()\n",
    "df[target] = le.fit_transform(df[target])\n",
    "\n",
    "# Split the data into training and test sets\n",
    "X = df[features]\n",
    "y = df[target]\n",
    "\n",
    "# Normalize the features\n",
    "X = (X - X.mean()) / X.std()\n",
    "\n",
    "# Add bias term to X\n",
    "X = np.c_[np.ones(X.shape[0]), X]\n",
    "\n",
    "# Define the learning rate and number of iterations\n",
    "learning_rate = 0.01\n",
    "num_iterations = 1000\n",
    "\n",
    "# Initialize the parameters with zeros\n",
    "num_features = X.shape[1]\n",
    "theta = np.zeros(num_features)\n",
    "\n",
    "# Perform gradient descent\n",
    "for _ in range(num_iterations):\n",
    "    # Calculate the predicted values using sigmoid function\n",
    "    y_pred = 1 / (1 + np.exp(-X.dot(theta)))\n",
    "    \n",
    "    # Calculate the gradient\n",
    "    gradient = (1 / len(X)) * X.T.dot(y_pred - y)\n",
    "    \n",
    "    # Update the parameters\n",
    "    theta = theta - learning_rate * gradient\n",
    "\n",
    "# Print the coefficients (parameters) of the model\n",
    "print('Coefficients:', theta[1:])\n",
    "print('Intercept:', theta[0])"
   ]
  },
  {
   "cell_type": "code",
   "execution_count": null,
   "id": "40ba6aa5",
   "metadata": {},
   "outputs": [],
   "source": []
  }
 ],
 "metadata": {
  "kernelspec": {
   "display_name": "Python 3 (ipykernel)",
   "language": "python",
   "name": "python3"
  },
  "language_info": {
   "codemirror_mode": {
    "name": "ipython",
    "version": 3
   },
   "file_extension": ".py",
   "mimetype": "text/x-python",
   "name": "python",
   "nbconvert_exporter": "python",
   "pygments_lexer": "ipython3",
   "version": "3.10.6"
  }
 },
 "nbformat": 4,
 "nbformat_minor": 5
}
