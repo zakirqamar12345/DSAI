{
 "cells": [
  {
   "cell_type": "code",
   "execution_count": 1,
   "id": "a44b0da8",
   "metadata": {},
   "outputs": [
    {
     "name": "stdout",
     "output_type": "stream",
     "text": [
      "Coefficients: [[ 0.02564182  0.02621225  0.01114953]\n",
      " [-0.02702036 -0.0303808  -0.02079765]\n",
      " [ 0.00137854  0.00416856  0.00964812]]\n",
      "Intercept: [-3.136018    2.75391753  0.38210047]\n"
     ]
    }
   ],
   "source": [
    "import pandas as pd\n",
    "from sklearn.preprocessing import LabelEncoder\n",
    "from sklearn.linear_model import LogisticRegression\n",
    "\n",
    "# Read data from CSV file into a DataFrame\n",
    "df = pd.read_csv(r'E:\\NUST-dairy\\Module\\Project\\AI-Data.csv')\n",
    "\n",
    "# Define the features and target variable\n",
    "features = ['raisedhands', 'VisITedResources', 'AnnouncementsView']\n",
    "target = 'Class'\n",
    "\n",
    "# Convert the target variable to numerical using label encoding\n",
    "le = LabelEncoder()\n",
    "df[target] = le.fit_transform(df[target])\n",
    "\n",
    "# Split the data into training and test sets\n",
    "X = df[features]\n",
    "y = df[target]\n",
    "\n",
    "# Create and fit the logistic regression model\n",
    "model = LogisticRegression()\n",
    "model.fit(X, y)\n",
    "\n",
    "# Predict the target variable using the trained model\n",
    "y_pred = model.predict(X)\n",
    "\n",
    "# Print the coefficients and intercept of the model\n",
    "print('Coefficients:', model.coef_)\n",
    "print('Intercept:', model.intercept_)"
   ]
  },
  {
   "cell_type": "code",
   "execution_count": null,
   "id": "39b7db8f",
   "metadata": {},
   "outputs": [],
   "source": []
  }
 ],
 "metadata": {
  "kernelspec": {
   "display_name": "Python 3 (ipykernel)",
   "language": "python",
   "name": "python3"
  },
  "language_info": {
   "codemirror_mode": {
    "name": "ipython",
    "version": 3
   },
   "file_extension": ".py",
   "mimetype": "text/x-python",
   "name": "python",
   "nbconvert_exporter": "python",
   "pygments_lexer": "ipython3",
   "version": "3.10.6"
  }
 },
 "nbformat": 4,
 "nbformat_minor": 5
}
