{
 "cells": [
  {
   "cell_type": "code",
   "execution_count": 3,
   "id": "f73c2658",
   "metadata": {},
   "outputs": [
    {
     "name": "stdout",
     "output_type": "stream",
     "text": [
      "  gender NationalITy PlaceofBirth       StageID GradeID SectionID Topic  \\\n",
      "0      M          KW       KuwaIT    lowerlevel    G-04         A    IT   \n",
      "1      M          KW       KuwaIT    lowerlevel    G-04         A    IT   \n",
      "2      M          KW       KuwaIT    lowerlevel    G-04         A    IT   \n",
      "3      M          KW       KuwaIT    lowerlevel    G-04         A    IT   \n",
      "4      M          KW       KuwaIT    lowerlevel    G-04         A    IT   \n",
      "5      F          KW       KuwaIT    lowerlevel    G-04         A    IT   \n",
      "6      M          KW       KuwaIT  MiddleSchool    G-07         A  Math   \n",
      "7      M          KW       KuwaIT  MiddleSchool    G-07         A  Math   \n",
      "8      F          KW       KuwaIT  MiddleSchool    G-07         A  Math   \n",
      "\n",
      "  Semester Relation  raisedhands  VisITedResources  AnnouncementsView  \\\n",
      "0        F   Father           15                16                  2   \n",
      "1        F   Father           20                20                  3   \n",
      "2        F   Father           10                 7                  0   \n",
      "3        F   Father           30                25                  5   \n",
      "4        F   Father           40                50                 12   \n",
      "5        F   Father           42                30                 13   \n",
      "6        F   Father           35                12                  0   \n",
      "7        F   Father           50                10                 15   \n",
      "8        F   Father           12                21                 16   \n",
      "\n",
      "   Discussion ParentAnsweringSurvey ParentschoolSatisfaction  \\\n",
      "0          20                   Yes                     Good   \n",
      "1          25                   Yes                     Good   \n",
      "2          30                    No                      Bad   \n",
      "3          35                    No                      Bad   \n",
      "4          50                    No                      Bad   \n",
      "5          70                   Yes                      Bad   \n",
      "6          17                    No                      Bad   \n",
      "7          22                   Yes                     Good   \n",
      "8          50                   Yes                     Good   \n",
      "\n",
      "  StudentAbsenceDays Class  \n",
      "0            Under-7     M  \n",
      "1            Under-7     M  \n",
      "2            Above-7     L  \n",
      "3            Above-7     L  \n",
      "4            Above-7     M  \n",
      "5            Above-7     M  \n",
      "6            Above-7     L  \n",
      "7            Under-7     M  \n",
      "8            Under-7     M  \n"
     ]
    },
    {
     "data": {
      "image/png": "[encoded data removed]",
      "text/plain": [
       "<Figure size 640x480 with 1 Axes>"
      ]
     },
     "metadata": {},
     "output_type": "display_data"
    }
   ],
   "source": [
    "import matplotlib.pyplot as plt\n",
    "import pandas as pd\n",
    "\n",
    "data = {\n",
    "    'gender': ['M', 'M', 'M', 'M', 'M', 'F', 'M', 'M', 'F'],\n",
    "    'NationalITy': ['KW', 'KW', 'KW', 'KW', 'KW', 'KW', 'KW', 'KW', 'KW'],\n",
    "    'PlaceofBirth': ['KuwaIT', 'KuwaIT', 'KuwaIT', 'KuwaIT', 'KuwaIT', 'KuwaIT', 'KuwaIT', 'KuwaIT', 'KuwaIT'],\n",
    "    'StageID': ['lowerlevel', 'lowerlevel', 'lowerlevel', 'lowerlevel', 'lowerlevel', 'lowerlevel', 'MiddleSchool', 'MiddleSchool', 'MiddleSchool'],\n",
    "    'GradeID': ['G-04', 'G-04', 'G-04', 'G-04', 'G-04', 'G-04', 'G-07', 'G-07', 'G-07'],\n",
    "    'SectionID': ['A', 'A', 'A', 'A', 'A', 'A', 'A', 'A', 'A'],\n",
    "    'Topic': ['IT', 'IT', 'IT', 'IT', 'IT', 'IT', 'Math', 'Math', 'Math'],\n",
    "    'Semester': ['F', 'F', 'F', 'F', 'F', 'F', 'F', 'F', 'F'],\n",
    "    'Relation': ['Father', 'Father', 'Father', 'Father', 'Father', 'Father', 'Father', 'Father', 'Father'],\n",
    "    'raisedhands': [15, 20, 10, 30, 40, 42, 35, 50, 12],\n",
    "    'VisITedResources': [16, 20, 7, 25, 50, 30, 12, 10, 21],\n",
    "    'AnnouncementsView': [2, 3, 0, 5, 12, 13, 0, 15, 16],\n",
    "    'Discussion': [20, 25, 30, 35, 50, 70, 17, 22, 50],\n",
    "    'ParentAnsweringSurvey': ['Yes', 'Yes', 'No', 'No', 'No', 'Yes', 'No', 'Yes', 'Yes'],\n",
    "    'ParentschoolSatisfaction': ['Good', 'Good', 'Bad', 'Bad', 'Bad', 'Bad', 'Bad', 'Good', 'Good'],\n",
    "    'StudentAbsenceDays': ['Under-7', 'Under-7', 'Above-7', 'Above-7', 'Above-7', 'Above-7', 'Above-7', 'Under-7', 'Under-7'],\n",
    "    'Class': ['M', 'M', 'L', 'L', 'M', 'M', 'L', 'M', 'M']\n",
    "}\n",
    "\n",
    "df = pd.DataFrame(data)\n",
    "print(df)\n",
    "\n",
    "# Scatter plot\n",
    "plt.scatter(df['raisedhands'], df['Class'])\n",
    "plt.xlabel('Raised Hands')\n",
    "plt.ylabel('Class')\n",
    "plt.title('Relationship between Raised Hands and Class')\n",
    "plt.show()"
   ]
  },
  {
   "cell_type": "code",
   "execution_count": null,
   "id": "180dbd89",
   "metadata": {},
   "outputs": [],
   "source": []
  }
 ],
 "metadata": {
  "kernelspec": {
   "display_name": "Python 3 (ipykernel)",
   "language": "python",
   "name": "python3"
  },
  "language_info": {
   "codemirror_mode": {
    "name": "ipython",
    "version": 3
   },
   "file_extension": ".py",
   "mimetype": "text/x-python",
   "name": "python",
   "nbconvert_exporter": "python",
   "pygments_lexer": "ipython3",
   "version": "3.10.6"
  }
 },
 "nbformat": 4,
 "nbformat_minor": 5
}
